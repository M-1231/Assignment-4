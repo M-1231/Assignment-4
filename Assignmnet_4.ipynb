{
  "nbformat": 4,
  "nbformat_minor": 0,
  "metadata": {
    "colab": {
      "provenance": []
    },
    "kernelspec": {
      "name": "python3",
      "display_name": "Python 3"
    },
    "language_info": {
      "name": "python"
    }
  },
  "cells": [
    {
      "cell_type": "code",
      "source": [
        "#Q.1\n",
        "l=[('Sachin Tendulkar', 34357), ('Ricky Ponting', 27483), ('Jack Kallis', 25534), ('Virat Kohli', 24936)]\n",
        "def list_sort():\n",
        "     for i in l:\n",
        "        if type(i)==int:\n",
        "           sort()\n",
        "     return l\n",
        "\n"
      ],
      "metadata": {
        "id": "S7fwRdmu_aKC"
      },
      "execution_count": 115,
      "outputs": []
    },
    {
      "cell_type": "code",
      "source": [
        "l1=list(map(lambda x: list_sort(),l))"
      ],
      "metadata": {
        "id": "ScZiu0YPEJwb"
      },
      "execution_count": 116,
      "outputs": []
    },
    {
      "cell_type": "code",
      "source": [
        "l1\n"
      ],
      "metadata": {
        "colab": {
          "base_uri": "https://localhost:8080/"
        },
        "id": "U9S8vaWABEO_",
        "outputId": "8382f87f-a98c-4682-8674-d1df88db68f9"
      },
      "execution_count": 117,
      "outputs": [
        {
          "output_type": "execute_result",
          "data": {
            "text/plain": [
              "[[('Sachin Tendulkar', 34357),\n",
              "  ('Ricky Ponting', 27483),\n",
              "  ('Jack Kallis', 25534),\n",
              "  ('Virat Kohli', 24936)],\n",
              " [('Sachin Tendulkar', 34357),\n",
              "  ('Ricky Ponting', 27483),\n",
              "  ('Jack Kallis', 25534),\n",
              "  ('Virat Kohli', 24936)],\n",
              " [('Sachin Tendulkar', 34357),\n",
              "  ('Ricky Ponting', 27483),\n",
              "  ('Jack Kallis', 25534),\n",
              "  ('Virat Kohli', 24936)],\n",
              " [('Sachin Tendulkar', 34357),\n",
              "  ('Ricky Ponting', 27483),\n",
              "  ('Jack Kallis', 25534),\n",
              "  ('Virat Kohli', 24936)]]"
            ]
          },
          "metadata": {},
          "execution_count": 117
        }
      ]
    },
    {
      "cell_type": "code",
      "source": [
        "#Q.2\n",
        "l=[1,2,3,4,5,6,7,8,9,10]\n",
        "list(map(lambda x:x**2,l))\n"
      ],
      "metadata": {
        "colab": {
          "base_uri": "https://localhost:8080/"
        },
        "id": "SmoCgWfVh3IO",
        "outputId": "427a5ec4-0e2a-4903-deea-2d7e3c3076d9"
      },
      "execution_count": 25,
      "outputs": [
        {
          "output_type": "execute_result",
          "data": {
            "text/plain": [
              "[1, 4, 9, 16, 25, 36, 49, 64, 81, 100]"
            ]
          },
          "metadata": {},
          "execution_count": 25
        }
      ]
    },
    {
      "cell_type": "code",
      "source": [
        "#Q.3\n",
        "l=[1,2,3,4,5,6,7,8,9,10]"
      ],
      "metadata": {
        "id": "EoH4JFDRl-Mx"
      },
      "execution_count": 37,
      "outputs": []
    },
    {
      "cell_type": "code",
      "source": [
        "tuple(map(lambda x:str(x),l))"
      ],
      "metadata": {
        "colab": {
          "base_uri": "https://localhost:8080/"
        },
        "id": "SeugYzKumy49",
        "outputId": "a2bbc9e7-09e3-498d-fd6b-9ad4d7c034ae"
      },
      "execution_count": 38,
      "outputs": [
        {
          "output_type": "execute_result",
          "data": {
            "text/plain": [
              "('1', '2', '3', '4', '5', '6', '7', '8', '9', '10')"
            ]
          },
          "metadata": {},
          "execution_count": 38
        }
      ]
    },
    {
      "cell_type": "code",
      "source": [
        "#Q.4\n",
        "from functools import reduce\n",
        "l=range(1,26)\n",
        "reduce(lambda x,y:x*y,l)"
      ],
      "metadata": {
        "colab": {
          "base_uri": "https://localhost:8080/"
        },
        "id": "F1RjcZs63F7f",
        "outputId": "f1bf6b51-4096-4491-e3f7-fd50a486cd8e"
      },
      "execution_count": 49,
      "outputs": [
        {
          "output_type": "execute_result",
          "data": {
            "text/plain": [
              "15511210043330985984000000"
            ]
          },
          "metadata": {},
          "execution_count": 49
        }
      ]
    },
    {
      "cell_type": "code",
      "source": [
        "#Q.5\n",
        "l=[2,3,6,9,27,60,90,120,55,46]\n",
        "print(\"Numbers divisible by 2\")\n",
        "list(filter(lambda x: x%2==0 ,l))"
      ],
      "metadata": {
        "colab": {
          "base_uri": "https://localhost:8080/"
        },
        "id": "y_P2m8Hi5R3z",
        "outputId": "04130820-ee07-411a-c1f4-2fdb44ac0816"
      },
      "execution_count": 58,
      "outputs": [
        {
          "output_type": "stream",
          "name": "stdout",
          "text": [
            "Numbers divisible by 2\n"
          ]
        },
        {
          "output_type": "execute_result",
          "data": {
            "text/plain": [
              "[2, 6, 60, 90, 120, 46]"
            ]
          },
          "metadata": {},
          "execution_count": 58
        }
      ]
    },
    {
      "cell_type": "code",
      "source": [
        "print(\"Numbers divisible by 3\")\n",
        "list(filter(lambda x: x%3==0 ,l))"
      ],
      "metadata": {
        "colab": {
          "base_uri": "https://localhost:8080/"
        },
        "id": "bOeeb4QD58hg",
        "outputId": "091e5e9a-458c-4fc9-fa63-137704ee0079"
      },
      "execution_count": 59,
      "outputs": [
        {
          "output_type": "stream",
          "name": "stdout",
          "text": [
            "Numbers divisible by 3\n"
          ]
        },
        {
          "output_type": "execute_result",
          "data": {
            "text/plain": [
              "[3, 6, 9, 27, 60, 90, 120]"
            ]
          },
          "metadata": {},
          "execution_count": 59
        }
      ]
    },
    {
      "cell_type": "code",
      "source": [
        "print(\"Numbers divisible by 2 and 3\")\n",
        "list(filter(lambda x: x%2==0 and x%3==0 ,l))"
      ],
      "metadata": {
        "colab": {
          "base_uri": "https://localhost:8080/"
        },
        "id": "qGsLMn6W67ZO",
        "outputId": "7e4b68f8-bb5e-4d5f-b3f8-eabe6a27a581"
      },
      "execution_count": 60,
      "outputs": [
        {
          "output_type": "stream",
          "name": "stdout",
          "text": [
            "Numbers divisible by 2 and 3\n"
          ]
        },
        {
          "output_type": "execute_result",
          "data": {
            "text/plain": [
              "[6, 60, 90, 120]"
            ]
          },
          "metadata": {},
          "execution_count": 60
        }
      ]
    },
    {
      "cell_type": "code",
      "source": [
        "#Q.6\n",
        "l=['python', 'php', 'aba', 'radar', 'level']\n",
        "print(\"Palindromes in the given list are\")\n",
        "list(filter(lambda x:x==x[::-1],l))"
      ],
      "metadata": {
        "colab": {
          "base_uri": "https://localhost:8080/"
        },
        "id": "Q7KDgGRO-rLl",
        "outputId": "c777bfca-4c73-483e-be49-56b77252f0ea"
      },
      "execution_count": 68,
      "outputs": [
        {
          "output_type": "stream",
          "name": "stdout",
          "text": [
            "Palindromes in the given list are\n"
          ]
        },
        {
          "output_type": "execute_result",
          "data": {
            "text/plain": [
              "['php', 'aba', 'radar', 'level']"
            ]
          },
          "metadata": {},
          "execution_count": 68
        }
      ]
    }
  ]
}